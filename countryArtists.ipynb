{
 "cells": [
  {
   "cell_type": "markdown",
   "metadata": {},
   "source": [
    "# Download country lyrics"
   ]
  },
  {
   "cell_type": "code",
   "execution_count": 5,
   "metadata": {
    "scrolled": true
   },
   "outputs": [],
   "source": [
    "# from urllib.request import Request, urlopen, quote # Python 3\n",
    "from urllib2 import Request, urlopen, quote # Python 2    \n",
    "from bs4 import BeautifulSoup\n",
    "from string import punctuation\n",
    "from difflib import SequenceMatcher as sm # For comparing similarity of lyrics\n",
    "import requests\n",
    "import json\n",
    "import numpy as np\n",
    "import pandas as pd\n",
    "import matplotlib.pyplot as plt\n",
    "import genius as genius_api\n",
    "genius = genius_api.Genius()"
   ]
  },
  {
   "cell_type": "markdown",
   "metadata": {},
   "source": [
    "### Get a list of each year's top 50 country artists from Billboard.com"
   ]
  },
  {
   "cell_type": "code",
   "execution_count": 3,
   "metadata": {
    "scrolled": true
   },
   "outputs": [],
   "source": [
    "def getArtistsFromList(URL):    \n",
    "    # URL is a Billboard top list,\n",
    "    # e.g. https://www.billboard.com/charts/year-end/2006/top-country-artists\n",
    "    page = requests.get(URL)\n",
    "    html = BeautifulSoup(page.text, \"html.parser\")    \n",
    "    chart_items = html.find_all(\"div\", class_=\"ye-chart-item__title\")\n",
    "    return [item.get_text().strip() for item in chart_items]            "
   ]
  },
  {
   "cell_type": "code",
   "execution_count": 4,
   "metadata": {
    "scrolled": true
   },
   "outputs": [],
   "source": [
    "# Get the top 50 country artists each year since 2006\n",
    "top_artists_by_year = {}\n",
    "for year in range(2006,2018):    \n",
    "    url = \"https://www.billboard.com/charts/year-end/{}/top-country-artists\".format(year)\n",
    "    top_artists_by_year[year] = getArtistsFromList(url)"
   ]
  },
  {
   "cell_type": "markdown",
   "metadata": {},
   "source": [
    "### Use the Genius API to get each artist's lyrics\n",
    "https://github.com/johnwmillr/GeniusLyrics"
   ]
  },
  {
   "cell_type": "code",
   "execution_count": 4,
   "metadata": {
    "scrolled": true
   },
   "outputs": [],
   "source": [
    "# We want to reject songs that have already been added to artist collection\n",
    "def songsAreSame(s1, s2):    \n",
    "    # Idea credit: https://bigishdata.com/2016/10/25/talkin-bout-trucks-beer-and-love-in-country-songs-analyzing-genius-lyrics/\n",
    "    # Compare lyric content using SequenceMatcher\n",
    "    seqA = sm(None, s1.lyrics, s2['lyrics'])\n",
    "    seqB = sm(None, s2['lyrics'], s1.lyrics)\n",
    "    return seqA.ratio() > 0.5 or seqB.ratio() > 0.5\n",
    "\n",
    "def songInArtist(new_song):    \n",
    "    # artist_lyrics is global (works in Jupyter notebook)\n",
    "    for song in artist_lyrics[year]['artists'][-1]['songs']:\n",
    "        if songsAreSame(new_song, song):\n",
    "            return True\n",
    "    return False\n",
    "    "
   ]
  },
  {
   "cell_type": "code",
   "execution_count": null,
   "metadata": {
    "scrolled": false
   },
   "outputs": [],
   "source": [
    "# Use the Genius API to get each artist's lyrics\n",
    "found_artists = {}\n",
    "artist_lyrics = {}\n",
    "for year in reversed(list(top_artists_by_year.keys())):\n",
    "    print(\"\\n******* {} *******\".format(year))    \n",
    "    artist_lyrics[year] = {'artists': []}\n",
    "    for rank, name in enumerate(top_artists_by_year[year]):\n",
    "        print(\"\\n--------\")\n",
    "        try:\n",
    "            artist_lyrics[year]['artists'].append({})\n",
    "            if name not in found_artists:\n",
    "                artist = genius.search_artist(name)\n",
    "                artist_lyrics[year]['artists'][-1]['artist'] = artist.name\n",
    "                artist_lyrics[year]['artists'][-1]['rank'] = rank+1                \n",
    "                artist_lyrics[year]['artists'][-1]['songs'] = []\n",
    "                for song in artist.songs:                \n",
    "                    if not songInArtist(song):                \n",
    "                        artist_lyrics[year]['artists'][-1]['songs'].append({})\n",
    "                        artist_lyrics[year]['artists'][-1]['songs'][-1]['title'] = song.title\n",
    "                        artist_lyrics[year]['artists'][-1]['songs'][-1]['album'] = song.album\n",
    "                        artist_lyrics[year]['artists'][-1]['songs'][-1]['year'] = song.year\n",
    "                        artist_lyrics[year]['artists'][-1]['songs'][-1]['lyrics'] = song.lyrics                \n",
    "                        artist_lyrics[year]['artists'][-1]['songs'][-1]['art'] = song.song_art_image_url\n",
    "                    else:\n",
    "                        print(\"SKIPPING \\\"{}\\\", already found in artist collection.\".format(song.title))\n",
    "                found_artists[name] = (name, year, len(artist_lyrics[year]['artists'])-1)\n",
    "            else:\n",
    "                # Store reference to artist location in dict, if artist previously found\n",
    "                artist_lyrics[year]['artists'][-1] = found_artists[name]\n",
    "        except:\n",
    "            print('Skipping \"{}\" due to error.'.format(name))\n",
    "            \n",
    "    # Write the JSON object to disk as a backup before each new year\n",
    "    with open('lyrics_{}.json'.format(year), 'w') as outfile:\n",
    "        json.dump(artist_lyrics, outfile)\n",
    "        \n",
    "# Final write of the JSON object\n",
    "with open('artist_lyrics.json', 'w') as outfile:\n",
    "    json.dump(artist_lyrics, outfile)"
   ]
  },
  {
   "cell_type": "markdown",
   "metadata": {},
   "source": [
    "### Load and view the lyrics JSON object"
   ]
  },
  {
   "cell_type": "code",
   "execution_count": 2,
   "metadata": {
    "scrolled": true
   },
   "outputs": [],
   "source": [
    "data = json.load(open('lyrics_2017.json'))\n",
    "artists = data['2017']['artists']\n",
    "artists.pop(36); # Must have been an error while downloading"
   ]
  },
  {
   "cell_type": "code",
   "execution_count": 59,
   "metadata": {},
   "outputs": [
    {
     "data": {
      "text/plain": [
       "5089"
      ]
     },
     "execution_count": 59,
     "metadata": {},
     "output_type": "execute_result"
    }
   ],
   "source": [
    "# How many songs did we download?\n",
    "song_count = 0\n",
    "for artist in artists:\n",
    "    song_count += len(artist['songs'])\n",
    "    \n",
    "song_count"
   ]
  },
  {
   "cell_type": "markdown",
   "metadata": {},
   "source": [
    "### Count truck frequency"
   ]
  },
  {
   "cell_type": "markdown",
   "metadata": {},
   "source": [
    "### How often does each artist mention a given term?"
   ]
  },
  {
   "cell_type": "code",
   "execution_count": 83,
   "metadata": {},
   "outputs": [],
   "source": [
    "# TODO: Clean these up. Combine them? Do I want to be using a DataFrame like I am?\n",
    "def calcFreqOfTerm(artist, term):\n",
    "    # Determine how many songs mention a given term\n",
    "    songs = artist['songs']\n",
    "    song_count, term_count = len(songs), 0\n",
    "    for song in songs:\n",
    "        if term.lower() in song['lyrics'].lower():\n",
    "            term_count += 1        \n",
    "\n",
    "    term_freq = round(term_count/float(song_count),5)    \n",
    "    data = np.reshape([term_freq, term_count, song_count],(1,3))\n",
    "    return pd.DataFrame(data, columns=['frequency','count','total'], index=[artist['artist']])\n",
    "\n",
    "def calcTermFreqAcrossArtists(artists, term):\n",
    "    term_freqs = pd.concat([calcFreqOfTerm(artist, term) for artist in artists],axis=0)\n",
    "    term_freqs.term = term\n",
    "    return term_freqs"
   ]
  },
  {
   "cell_type": "code",
   "execution_count": 292,
   "metadata": {},
   "outputs": [
    {
     "data": {
      "image/png": "[encoded data removed]",
      "text/plain": [
       "<matplotlib.figure.Figure at 0x10981ba90>"
      ]
     },
     "metadata": {},
     "output_type": "display_data"
    }
   ],
   "source": [
    "# Calculate two frequency variables\n",
    "f1 = calcTermFreqAcrossArtists(artists, 'beer')\n",
    "f2 = calcTermFreqAcrossArtists(artists, 'truck')\n",
    "x, y = 100*f1['frequency'].values, 100*f2['frequency'].values\n",
    "LIMITS = (-3,1.2*np.max([x,y]))\n",
    "\n",
    "# Fit a line\n",
    "A = np.vstack([x, np.ones(len(x))]).T\n",
    "soln = np.linalg.lstsq(A,y,rcond=None)[0]\n",
    "t = np.linspace(LIMITS[0],LIMITS[1])\n",
    "fit = soln[0]*t + soln[1]\n",
    "\n",
    "# residual sum of squares\n",
    "y_fit = soln[0]*x + soln[1]\n",
    "ss_res = np.sum((y - y_fit) ** 2)\n",
    "# total sum of squares\n",
    "ss_tot = np.sum((y - np.mean(y)) ** 2)\n",
    "# r-squared\n",
    "r2 = round(1 - (ss_res / ss_tot),3)\n",
    "\n",
    "FS,ms,fs = 12, 9, 20\n",
    "fig = plt.figure(figsize=(FS,FS));\n",
    "ax = fig.add_subplot(111, aspect='equal')\n",
    "ax.plot(x,y,'ro',markersize=ms,alpha=0.5)\n",
    "ax.plot(t,fit,'k')\n",
    "ax.set_xlabel('% of artist\\'s songs mentioning \"{}\"'.format(f1.term),fontsize=fs)\n",
    "ax.set_ylabel('% of artist\\'s songs mentioning \"{}\"'.format(f2.term),fontsize=fs);\n",
    "ax.set_title('Frequency comparison of \"{}\" and \"{}\" in popular country music'.format(f1.term, f2.term), fontsize=fs)\n",
    "\n",
    "# add text to the plot\n",
    "ax.text(0, 33, r'$r^2={}$'.format(r2), style='italic', fontsize=fs-4,\n",
    "        bbox={'facecolor':'green', 'alpha':0.3, 'pad':10});\n",
    "\n",
    "plt.savefig('foo.png')"
   ]
  },
  {
   "cell_type": "code",
   "execution_count": null,
   "metadata": {
    "scrolled": true
   },
   "outputs": [],
   "source": [
    "\n",
    "\n",
    "\n",
    "\n",
    "\n",
    "\n",
    "\n",
    "\n",
    "\n",
    "\n",
    "\n",
    "\n",
    "\n",
    "\n",
    "\n",
    "\n",
    "\n",
    "\n",
    "\n",
    "\n",
    "\n",
    "\n",
    "\n"
   ]
  }
 ],
 "metadata": {
  "kernelspec": {
   "display_name": "Python 2",
   "language": "python",
   "name": "python2"
  },
  "language_info": {
   "codemirror_mode": {
    "name": "ipython",
    "version": 2
   },
   "file_extension": ".py",
   "mimetype": "text/x-python",
   "name": "python",
   "nbconvert_exporter": "python",
   "pygments_lexer": "ipython2",
   "version": "2.7.14"
  }
 },
 "nbformat": 4,
 "nbformat_minor": 2
}
